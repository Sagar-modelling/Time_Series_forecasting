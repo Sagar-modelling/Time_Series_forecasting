{
 "cells": [
  {
   "cell_type": "code",
   "execution_count": 4,
   "metadata": {},
   "outputs": [],
   "source": [
    "import numpy as np\n",
    "import pandas as pd\n",
    "import keras\n",
    "import matplotlib.pyplot as plt"
   ]
  },
  {
   "attachments": {},
   "cell_type": "markdown",
   "id": "f2ecf27d",
   "metadata": {},
   "source": [
    "## y= mx+b+error(noise)"
   ]
  },
  {
   "cell_type": "code",
   "execution_count": 7,
   "id": "99af4333",
   "metadata": {},
   "outputs": [
    {
     "data": {
      "text/plain": [
       "array([ 1.08273994e+01,  2.51253084e+00,  3.63187779e+00,  2.01530302e+00,\n",
       "        2.60447179e+00, -1.27727218e+00, -3.39230793e+00,  2.42386140e+00,\n",
       "       -8.07267298e+00,  2.96048823e+00,  2.11525398e+00, -2.35600213e+00,\n",
       "        7.54781238e-01, -3.03548822e+00, -3.73294887e+00,  3.82022604e+00,\n",
       "        7.63177289e-01,  7.91502930e+00,  1.04238691e+01,  2.73403554e+00,\n",
       "        1.21066179e+00,  6.77489170e+00, -6.82434372e+00, -4.63647766e+00,\n",
       "       -5.39362882e-01,  1.56211137e+00,  6.67618544e-01,  7.38007437e-01,\n",
       "        3.23082366e+00,  2.91838701e-01,  2.55514805e+00,  1.31858520e+00,\n",
       "       -1.98841609e+00, -3.01627880e+00, -3.77362561e+00,  1.93900659e+00,\n",
       "       -4.67093266e-01,  7.60701918e+00,  9.52507835e-01,  7.98660914e+00,\n",
       "       -3.97305400e+00,  7.87198020e-01, -4.54657837e+00,  1.46591842e-03,\n",
       "        4.10393661e+00, -6.26391617e-01, -1.26316576e-01,  2.59930333e+00,\n",
       "        8.61938577e+00, -2.44103542e+00, -3.02130136e+00, -1.38567401e+00,\n",
       "        5.88107085e-01, -1.91779216e+00,  2.23507763e+00,  4.09924111e+00,\n",
       "       -3.70349704e+00,  7.45145655e+00, -4.53526865e+00,  2.44191163e+00,\n",
       "        1.54412125e+00,  8.33607412e+00, -1.50607470e+00,  9.21345374e-01,\n",
       "        2.72483717e+00,  4.14050030e+00, -1.24641926e-01,  7.75972924e+00,\n",
       "       -4.02074767e+00, -2.96715882e+00,  7.48498087e-01, -2.93138059e+00,\n",
       "       -5.53168039e+00,  5.92998198e+00,  3.84583262e+00, -8.56484916e+00,\n",
       "        3.97029381e+00,  4.76896255e+00, -4.18711815e+00,  5.17105831e+00,\n",
       "       -5.87005608e+00, -1.97638143e+00, -6.50138939e-01,  1.94323495e+00,\n",
       "        1.56995524e+00,  8.85962740e-01, -3.42078416e+00,  6.16796163e+00,\n",
       "        2.66527728e+00, -2.15293850e+00, -2.27432544e+00,  5.62935299e+00,\n",
       "        2.56722205e+00, -3.62039961e+00, -1.56462651e+00,  4.11317264e+00,\n",
       "       -7.89042041e+00, -3.46754014e+00,  2.88315040e+00, -4.89232815e+00])"
      ]
     },
     "execution_count": 7,
     "metadata": {},
     "output_type": "execute_result"
    }
   ],
   "source": [
    "m=2\n",
    "b=3 \n",
    "x= np.linspace(0,50,100)\n",
    "np.random.seed(101) #to generate noise element\n",
    "noise = np.random.normal(loc=0, scale=4, size=len(x)) #scale--> standard deviation\n",
    "noise"
   ]
  },
  {
   "cell_type": "code",
   "execution_count": 8,
   "id": "756a76f6",
   "metadata": {},
   "outputs": [
    {
     "data": {
      "text/plain": [
       "array([ 13.82739936,   6.52263185,   8.65207981,   8.04560605,\n",
       "         9.64487583,   6.77323287,   5.66829813,  12.49456847,\n",
       "         3.0081351 ,  15.05139732,  15.21626408,  11.75510898,\n",
       "        15.87599336,  13.09582491,  13.40846528,  21.97174119,\n",
       "        19.92479345,  28.08674647,  31.6056873 ,  24.92595473,\n",
       "        24.412682  ,  30.98701291,  18.3978785 ,  21.59584557,\n",
       "        26.70306136,  29.81463662,  29.93024481,  31.01073471,\n",
       "        34.51365194,  32.58476799,  35.85817836,  35.63171651,\n",
       "        33.33481623,  33.31705453,  33.56980873,  40.29254194,\n",
       "        38.8965431 ,  47.98075655,  42.33634622,  50.38054854,\n",
       "        39.4309864 ,  45.20133943,  40.87766405,  46.43580935,\n",
       "        51.54838105,  47.82815384,  49.33832989,  53.07405081,\n",
       "        60.10423426,  50.05391407,  50.48374915,  53.1294775 ,\n",
       "        56.11335961,  54.61756138,  59.78053217,  62.65479667,\n",
       "        55.86215953,  68.02721413,  57.05058994,  65.03787123,\n",
       "        65.15018185,  72.95223574,  64.12018793,  67.55770901,\n",
       "        70.37130182,  72.79706596,  69.54202474,  78.43649692,\n",
       "        67.66612102,  69.72981088,  74.45556879,  71.78579113,\n",
       "        70.19559233,  82.66735572,  81.59330737,  70.19272659,\n",
       "        83.73797058,  85.54674033,  77.60076064,  87.96903811,\n",
       "        77.93802473,  82.84180038,  85.17814389,  88.78161879,\n",
       "        89.41844009,  89.7445486 ,  86.44790271,  97.04674951,\n",
       "        94.55416617,  90.7460514 ,  91.63476547, 100.54854491,\n",
       "        98.49651498,  93.31899433,  96.38486844, 103.0727686 ,\n",
       "        92.07927656,  97.51225784, 104.87304938,  98.10767185])"
      ]
     },
     "execution_count": 8,
     "metadata": {},
     "output_type": "execute_result"
    }
   ],
   "source": [
    "y = 2*x + b + noise\n",
    "y"
   ]
  },
  {
   "cell_type": "code",
   "execution_count": 10,
   "id": "9fb17462",
   "metadata": {},
   "outputs": [
    {
     "data": {
      "image/png": "[encoded data removed]",
      "text/plain": [
       "<Figure size 432x288 with 1 Axes>"
      ]
     },
     "metadata": {
      "needs_background": "light"
     },
     "output_type": "display_data"
    }
   ],
   "source": [
    "plt.plot(x,y,'*');"
   ]
  },
  {
   "cell_type": "code",
   "execution_count": 11,
   "id": "b74682a3",
   "metadata": {},
   "outputs": [
    {
     "name": "stdout",
     "output_type": "stream",
     "text": [
      "Model: \"sequential\"\n",
      "_________________________________________________________________\n",
      " Layer (type)                Output Shape              Param #   \n",
      "=================================================================\n",
      " dense (Dense)               (None, 4)                 8         \n",
      "                                                                 \n",
      " dense_1 (Dense)             (None, 4)                 20        \n",
      "                                                                 \n",
      " dense_2 (Dense)             (None, 1)                 5         \n",
      "                                                                 \n",
      "=================================================================\n",
      "Total params: 33\n",
      "Trainable params: 33\n",
      "Non-trainable params: 0\n",
      "_________________________________________________________________\n"
     ]
    }
   ],
   "source": [
    "from keras.models import Sequential\n",
    "from keras.layers import Dense\n",
    "model = Sequential()\n",
    "model.add(Dense(4, input_dim=1, activation='relu'))\n",
    "model.add(Dense(4, activation='relu'))\n",
    "model.add(Dense(1, activation='linear'))\n",
    "model.compile(loss='mse', optimizer='adam')\n",
    "model.summary()"
   ]
  },
  {
   "cell_type": "code",
   "execution_count": 32,
   "id": "70f60452",
   "metadata": {},
   "outputs": [
    {
     "name": "stdout",
     "output_type": "stream",
     "text": [
      "Epoch 1/100\n",
      "4/4 [==============================] - 0s 5ms/step - loss: 1737.9894\n",
      "Epoch 2/100\n",
      "4/4 [==============================] - 0s 5ms/step - loss: 1673.6837\n",
      "Epoch 3/100\n",
      "4/4 [==============================] - 0s 4ms/step - loss: 1614.2974\n",
      "Epoch 4/100\n",
      "4/4 [==============================] - 0s 4ms/step - loss: 1547.9744\n",
      "Epoch 5/100\n",
      "4/4 [==============================] - 0s 7ms/step - loss: 1484.7646\n",
      "Epoch 6/100\n",
      "4/4 [==============================] - 0s 5ms/step - loss: 1422.6316\n",
      "Epoch 7/100\n",
      "4/4 [==============================] - 0s 5ms/step - loss: 1361.7831\n",
      "Epoch 8/100\n",
      "4/4 [==============================] - 0s 5ms/step - loss: 1302.6710\n",
      "Epoch 9/100\n",
      "4/4 [==============================] - 0s 6ms/step - loss: 1243.8412\n",
      "Epoch 10/100\n",
      "4/4 [==============================] - 0s 10ms/step - loss: 1186.9780\n",
      "Epoch 11/100\n",
      "4/4 [==============================] - 0s 5ms/step - loss: 1130.1665\n",
      "Epoch 12/100\n",
      "4/4 [==============================] - 0s 5ms/step - loss: 1074.9661\n",
      "Epoch 13/100\n",
      "4/4 [==============================] - 0s 5ms/step - loss: 1016.5500\n",
      "Epoch 14/100\n",
      "4/4 [==============================] - 0s 5ms/step - loss: 961.6298\n",
      "Epoch 15/100\n",
      "4/4 [==============================] - 0s 5ms/step - loss: 906.0413\n",
      "Epoch 16/100\n",
      "4/4 [==============================] - 0s 4ms/step - loss: 852.5653\n",
      "Epoch 17/100\n",
      "4/4 [==============================] - 0s 4ms/step - loss: 797.8044\n",
      "Epoch 18/100\n",
      "4/4 [==============================] - 0s 5ms/step - loss: 748.1984\n",
      "Epoch 19/100\n",
      "4/4 [==============================] - 0s 5ms/step - loss: 698.6049\n",
      "Epoch 20/100\n",
      "4/4 [==============================] - 0s 5ms/step - loss: 651.8391\n",
      "Epoch 21/100\n",
      "4/4 [==============================] - 0s 4ms/step - loss: 607.7938\n",
      "Epoch 22/100\n",
      "4/4 [==============================] - 0s 4ms/step - loss: 566.1340\n",
      "Epoch 23/100\n",
      "4/4 [==============================] - 0s 5ms/step - loss: 525.6732\n",
      "Epoch 24/100\n",
      "4/4 [==============================] - 0s 5ms/step - loss: 488.1912\n",
      "Epoch 25/100\n",
      "4/4 [==============================] - 0s 4ms/step - loss: 448.9427\n",
      "Epoch 26/100\n",
      "4/4 [==============================] - 0s 4ms/step - loss: 413.3687\n",
      "Epoch 27/100\n",
      "4/4 [==============================] - 0s 4ms/step - loss: 378.0658\n",
      "Epoch 28/100\n",
      "4/4 [==============================] - 0s 4ms/step - loss: 345.9822\n",
      "Epoch 29/100\n",
      "4/4 [==============================] - 0s 5ms/step - loss: 317.0633\n",
      "Epoch 30/100\n",
      "4/4 [==============================] - 0s 5ms/step - loss: 288.6836\n",
      "Epoch 31/100\n",
      "4/4 [==============================] - 0s 5ms/step - loss: 263.4254\n",
      "Epoch 32/100\n",
      "4/4 [==============================] - 0s 4ms/step - loss: 240.1576\n",
      "Epoch 33/100\n",
      "4/4 [==============================] - 0s 4ms/step - loss: 218.8867\n",
      "Epoch 34/100\n",
      "4/4 [==============================] - 0s 4ms/step - loss: 199.9423\n",
      "Epoch 35/100\n",
      "4/4 [==============================] - 0s 3ms/step - loss: 182.6797\n",
      "Epoch 36/100\n",
      "4/4 [==============================] - 0s 4ms/step - loss: 166.7846\n",
      "Epoch 37/100\n",
      "4/4 [==============================] - 0s 3ms/step - loss: 151.0763\n",
      "Epoch 38/100\n",
      "4/4 [==============================] - 0s 3ms/step - loss: 136.6645\n",
      "Epoch 39/100\n",
      "4/4 [==============================] - 0s 4ms/step - loss: 123.5640\n",
      "Epoch 40/100\n",
      "4/4 [==============================] - 0s 5ms/step - loss: 111.5186\n",
      "Epoch 41/100\n",
      "4/4 [==============================] - 0s 4ms/step - loss: 100.1770\n",
      "Epoch 42/100\n",
      "4/4 [==============================] - 0s 5ms/step - loss: 91.0075\n",
      "Epoch 43/100\n",
      "4/4 [==============================] - 0s 4ms/step - loss: 81.8860\n",
      "Epoch 44/100\n",
      "4/4 [==============================] - 0s 4ms/step - loss: 74.2476\n",
      "Epoch 45/100\n",
      "4/4 [==============================] - 0s 4ms/step - loss: 67.7003\n",
      "Epoch 46/100\n",
      "4/4 [==============================] - 0s 4ms/step - loss: 60.9839\n",
      "Epoch 47/100\n",
      "4/4 [==============================] - 0s 4ms/step - loss: 55.5065\n",
      "Epoch 48/100\n",
      "4/4 [==============================] - 0s 5ms/step - loss: 50.8224\n",
      "Epoch 49/100\n",
      "4/4 [==============================] - 0s 4ms/step - loss: 46.3270\n",
      "Epoch 50/100\n",
      "4/4 [==============================] - 0s 13ms/step - loss: 42.2808\n",
      "Epoch 51/100\n",
      "4/4 [==============================] - 0s 4ms/step - loss: 39.2269\n",
      "Epoch 52/100\n",
      "4/4 [==============================] - 0s 4ms/step - loss: 36.0669\n",
      "Epoch 53/100\n",
      "4/4 [==============================] - 0s 4ms/step - loss: 33.5800\n",
      "Epoch 54/100\n",
      "4/4 [==============================] - 0s 4ms/step - loss: 31.3970\n",
      "Epoch 55/100\n",
      "4/4 [==============================] - 0s 4ms/step - loss: 29.4552\n",
      "Epoch 56/100\n",
      "4/4 [==============================] - 0s 4ms/step - loss: 27.7391\n",
      "Epoch 57/100\n",
      "4/4 [==============================] - 0s 5ms/step - loss: 26.2344\n",
      "Epoch 58/100\n",
      "4/4 [==============================] - 0s 5ms/step - loss: 24.8110\n",
      "Epoch 59/100\n",
      "4/4 [==============================] - 0s 4ms/step - loss: 23.6598\n",
      "Epoch 60/100\n",
      "4/4 [==============================] - 0s 4ms/step - loss: 22.7043\n",
      "Epoch 61/100\n",
      "4/4 [==============================] - 0s 4ms/step - loss: 21.9701\n",
      "Epoch 62/100\n",
      "4/4 [==============================] - 0s 4ms/step - loss: 21.2029\n",
      "Epoch 63/100\n",
      "4/4 [==============================] - 0s 4ms/step - loss: 20.5113\n",
      "Epoch 64/100\n",
      "4/4 [==============================] - 0s 5ms/step - loss: 19.9057\n",
      "Epoch 65/100\n",
      "4/4 [==============================] - 0s 4ms/step - loss: 19.3775\n",
      "Epoch 66/100\n",
      "4/4 [==============================] - 0s 4ms/step - loss: 18.9990\n",
      "Epoch 67/100\n",
      "4/4 [==============================] - 0s 5ms/step - loss: 18.5839\n",
      "Epoch 68/100\n",
      "4/4 [==============================] - 0s 5ms/step - loss: 18.2801\n",
      "Epoch 69/100\n",
      "4/4 [==============================] - 0s 4ms/step - loss: 18.0540\n",
      "Epoch 70/100\n",
      "4/4 [==============================] - 0s 4ms/step - loss: 17.8621\n",
      "Epoch 71/100\n",
      "4/4 [==============================] - 0s 4ms/step - loss: 17.7208\n",
      "Epoch 72/100\n",
      "4/4 [==============================] - 0s 4ms/step - loss: 17.5926\n",
      "Epoch 73/100\n",
      "4/4 [==============================] - 0s 5ms/step - loss: 17.4622\n",
      "Epoch 74/100\n",
      "4/4 [==============================] - 0s 3ms/step - loss: 17.3796\n",
      "Epoch 75/100\n",
      "4/4 [==============================] - 0s 4ms/step - loss: 17.2580\n",
      "Epoch 76/100\n",
      "4/4 [==============================] - 0s 5ms/step - loss: 17.1765\n",
      "Epoch 77/100\n",
      "4/4 [==============================] - 0s 5ms/step - loss: 17.1147\n",
      "Epoch 78/100\n",
      "4/4 [==============================] - 0s 4ms/step - loss: 17.0637\n",
      "Epoch 79/100\n",
      "4/4 [==============================] - 0s 5ms/step - loss: 17.0425\n",
      "Epoch 80/100\n",
      "4/4 [==============================] - 0s 4ms/step - loss: 17.0202\n",
      "Epoch 81/100\n",
      "4/4 [==============================] - 0s 4ms/step - loss: 17.0133\n",
      "Epoch 82/100\n",
      "4/4 [==============================] - 0s 5ms/step - loss: 17.0095\n",
      "Epoch 83/100\n",
      "4/4 [==============================] - 0s 5ms/step - loss: 17.0003\n",
      "Epoch 84/100\n",
      "4/4 [==============================] - 0s 4ms/step - loss: 17.0021\n",
      "Epoch 85/100\n",
      "4/4 [==============================] - 0s 3ms/step - loss: 17.0039\n",
      "Epoch 86/100\n",
      "4/4 [==============================] - 0s 4ms/step - loss: 17.0045\n",
      "Epoch 87/100\n",
      "4/4 [==============================] - 0s 3ms/step - loss: 17.0003\n",
      "Epoch 88/100\n",
      "4/4 [==============================] - 0s 4ms/step - loss: 16.9917\n",
      "Epoch 89/100\n",
      "4/4 [==============================] - 0s 3ms/step - loss: 16.9904\n",
      "Epoch 90/100\n",
      "4/4 [==============================] - 0s 3ms/step - loss: 16.9895\n",
      "Epoch 91/100\n",
      "4/4 [==============================] - 0s 4ms/step - loss: 16.9891\n",
      "Epoch 92/100\n",
      "4/4 [==============================] - 0s 3ms/step - loss: 16.9902\n",
      "Epoch 93/100\n",
      "4/4 [==============================] - 0s 4ms/step - loss: 16.9871\n",
      "Epoch 94/100\n",
      "4/4 [==============================] - 0s 3ms/step - loss: 16.9877\n",
      "Epoch 95/100\n",
      "4/4 [==============================] - 0s 4ms/step - loss: 16.9870\n",
      "Epoch 96/100\n",
      "4/4 [==============================] - 0s 4ms/step - loss: 16.9854\n",
      "Epoch 97/100\n",
      "4/4 [==============================] - 0s 4ms/step - loss: 16.9855\n",
      "Epoch 98/100\n",
      "4/4 [==============================] - 0s 4ms/step - loss: 16.9842\n",
      "Epoch 99/100\n",
      "4/4 [==============================] - 0s 5ms/step - loss: 16.9871\n",
      "Epoch 100/100\n",
      "4/4 [==============================] - 0s 4ms/step - loss: 16.9855\n"
     ]
    },
    {
     "data": {
      "text/plain": [
       "<keras.callbacks.History at 0x26fb124dc40>"
      ]
     },
     "execution_count": 32,
     "metadata": {},
     "output_type": "execute_result"
    }
   ],
   "source": [
    "model.fit(x,y, epochs=100)"
   ]
  },
  {
   "cell_type": "code",
   "execution_count": 33,
   "id": "963600ea",
   "metadata": {},
   "outputs": [
    {
     "data": {
      "text/plain": [
       "[<matplotlib.lines.Line2D at 0x26fb14d1d60>]"
      ]
     },
     "execution_count": 33,
     "metadata": {},
     "output_type": "execute_result"
    },
    {
     "data": {
      "image/png": "[encoded data removed]",
      "text/plain": [
       "<Figure size 1152x432 with 1 Axes>"
      ]
     },
     "metadata": {
      "needs_background": "light"
     },
     "output_type": "display_data"
    }
   ],
   "source": [
    "loss = model.history.history['loss']\n",
    "epochs = range(len(loss))\n",
    "plt.figure(figsize=(16,6))\n",
    "plt.plot(epochs,loss)"
   ]
  },
  {
   "cell_type": "code",
   "execution_count": 34,
   "id": "55f5179d",
   "metadata": {},
   "outputs": [
    {
     "name": "stdout",
     "output_type": "stream",
     "text": [
      "4/4 [==============================] - 0s 3ms/step\n"
     ]
    },
    {
     "data": {
      "text/plain": [
       "array([[  3.7659183],\n",
       "       [  4.769749 ],\n",
       "       [  5.77358  ],\n",
       "       [  6.7774115],\n",
       "       [  7.7812424],\n",
       "       [  8.785074 ],\n",
       "       [  9.788904 ],\n",
       "       [ 10.792735 ],\n",
       "       [ 11.796566 ],\n",
       "       [ 12.800398 ],\n",
       "       [ 13.804228 ],\n",
       "       [ 14.808058 ],\n",
       "       [ 15.81189  ],\n",
       "       [ 16.815722 ],\n",
       "       [ 17.819551 ],\n",
       "       [ 18.823381 ],\n",
       "       [ 19.827213 ],\n",
       "       [ 20.831043 ],\n",
       "       [ 21.834877 ],\n",
       "       [ 22.838707 ],\n",
       "       [ 23.842539 ],\n",
       "       [ 24.84637  ],\n",
       "       [ 25.850197 ],\n",
       "       [ 26.85403  ],\n",
       "       [ 27.85786  ],\n",
       "       [ 28.861692 ],\n",
       "       [ 29.865524 ],\n",
       "       [ 30.869356 ],\n",
       "       [ 31.873184 ],\n",
       "       [ 32.877018 ],\n",
       "       [ 33.880848 ],\n",
       "       [ 34.88468  ],\n",
       "       [ 35.888508 ],\n",
       "       [ 36.892345 ],\n",
       "       [ 37.89617  ],\n",
       "       [ 38.9      ],\n",
       "       [ 39.903835 ],\n",
       "       [ 40.907665 ],\n",
       "       [ 41.9115   ],\n",
       "       [ 42.91533  ],\n",
       "       [ 43.91916  ],\n",
       "       [ 44.92299  ],\n",
       "       [ 45.926823 ],\n",
       "       [ 46.93066  ],\n",
       "       [ 47.934483 ],\n",
       "       [ 48.938316 ],\n",
       "       [ 49.94215  ],\n",
       "       [ 50.94598  ],\n",
       "       [ 51.949806 ],\n",
       "       [ 52.95364  ],\n",
       "       [ 53.95747  ],\n",
       "       [ 54.961308 ],\n",
       "       [ 55.965134 ],\n",
       "       [ 56.968967 ],\n",
       "       [ 57.972797 ],\n",
       "       [ 58.976624 ],\n",
       "       [ 59.980457 ],\n",
       "       [ 60.984287 ],\n",
       "       [ 61.98812  ],\n",
       "       [ 62.991947 ],\n",
       "       [ 63.995777 ],\n",
       "       [ 64.99961  ],\n",
       "       [ 66.00345  ],\n",
       "       [ 67.00727  ],\n",
       "       [ 68.0111   ],\n",
       "       [ 69.01493  ],\n",
       "       [ 70.01876  ],\n",
       "       [ 71.02259  ],\n",
       "       [ 72.02643  ],\n",
       "       [ 73.03026  ],\n",
       "       [ 74.03408  ],\n",
       "       [ 75.03792  ],\n",
       "       [ 76.04175  ],\n",
       "       [ 77.045586 ],\n",
       "       [ 78.04941  ],\n",
       "       [ 79.053246 ],\n",
       "       [ 80.05707  ],\n",
       "       [ 81.060905 ],\n",
       "       [ 82.064735 ],\n",
       "       [ 83.068565 ],\n",
       "       [ 84.0724   ],\n",
       "       [ 85.07623  ],\n",
       "       [ 86.080055 ],\n",
       "       [ 87.08389  ],\n",
       "       [ 88.08772  ],\n",
       "       [ 89.09155  ],\n",
       "       [ 90.09538  ],\n",
       "       [ 91.099205 ],\n",
       "       [ 92.10303  ],\n",
       "       [ 93.10687  ],\n",
       "       [ 94.1107   ],\n",
       "       [ 95.11453  ],\n",
       "       [ 96.11836  ],\n",
       "       [ 97.12219  ],\n",
       "       [ 98.12602  ],\n",
       "       [ 99.12985  ],\n",
       "       [100.13368  ],\n",
       "       [101.13497  ],\n",
       "       [102.13464  ],\n",
       "       [103.13431  ]], dtype=float32)"
      ]
     },
     "execution_count": 34,
     "metadata": {},
     "output_type": "execute_result"
    }
   ],
   "source": [
    "x_test = np.linspace(0,50,100)\n",
    "y_pred = model.predict(x_test)\n",
    "y_pred"
   ]
  },
  {
   "cell_type": "code",
   "execution_count": 35,
   "id": "94c7c580",
   "metadata": {},
   "outputs": [
    {
     "data": {
      "image/png": "[encoded data removed]",
      "text/plain": [
       "<Figure size 432x288 with 1 Axes>"
      ]
     },
     "metadata": {
      "needs_background": "light"
     },
     "output_type": "display_data"
    }
   ],
   "source": [
    "plt.plot(x,y, '*')\n",
    "plt.plot(x_test,y_pred,'r');"
   ]
  },
  {
   "cell_type": "code",
   "execution_count": 38,
   "id": "47caa475",
   "metadata": {},
   "outputs": [
    {
     "data": {
      "text/plain": [
       "16.982897077688467"
      ]
     },
     "execution_count": 38,
     "metadata": {},
     "output_type": "execute_result"
    }
   ],
   "source": [
    "from sklearn.metrics import mean_squared_error\n",
    "mse = mean_squared_error(y_pred,y)\n",
    "mse"
   ]
  },
  {
   "cell_type": "code",
   "execution_count": null,
   "id": "f73e232e",
   "metadata": {},
   "outputs": [],
   "source": []
  }
 ],
 "metadata": {
  "kernelspec": {
   "display_name": "timeseries",
   "language": "python",
   "name": "python3"
  },
  "language_info": {
   "codemirror_mode": {
    "name": "ipython",
    "version": 3
   },
   "file_extension": ".py",
   "mimetype": "text/x-python",
   "name": "python",
   "nbconvert_exporter": "python",
   "pygments_lexer": "ipython3",
   "version": "3.8.13"
  },
  "vscode": {
   "interpreter": {
    "hash": "b17902f702bd224953760c4a6973667394b49bfb1eb1bb2783f1c090f0c7b1dd"
   }
  }
 },
 "nbformat": 4,
 "nbformat_minor": 5
}
